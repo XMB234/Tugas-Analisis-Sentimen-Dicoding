{
  "nbformat": 4,
  "nbformat_minor": 0,
  "metadata": {
    "colab": {
      "provenance": []
    },
    "kernelspec": {
      "name": "python3",
      "display_name": "Python 3"
    },
    "language_info": {
      "name": "python"
    }
  },
  "cells": [
    {
      "cell_type": "markdown",
      "source": [
        "# Scapping Dataset"
      ],
      "metadata": {
        "id": "EmYIHt78KQ5N"
      }
    },
    {
      "cell_type": "code",
      "source": [
        "!pip install google-play-scraper\n",
        "\n",
        "# Mengimpor pustaka google_play_scraper untuk mengakses ulasan dan informasi aplikasi dari Google Play Store.\n",
        "from google_play_scraper import app, Sort, reviews_all\n",
        "import time\n",
        "\n",
        "# Fungsi untuk mengambil ulasan secara bertahap hingga mencapai target\n",
        "def get_reviews(app_id, target_reviews, reviews_per_request=100):\n",
        "    all_reviews = []  # Menyimpan ulasan yang diambil\n",
        "    continuation_token = None  # Token untuk melanjutkan pengambilan data, dimulai dengan None\n",
        "\n",
        "    # Loop untuk terus mengambil ulasan hingga jumlah ulasan mencapai targe\n",
        "    while len(all_reviews) < target_reviews:\n",
        "        reviews = reviews_all(\n",
        "            app_id,\n",
        "            lang='id',\n",
        "            country='id',\n",
        "            sort=Sort.MOST_RELEVANT,\n",
        "            count=reviews_per_request, # Jumlah ulasan per request\n",
        "            continuation_token=continuation_token # Token untuk melanjutkan permintaan ulasan sebelumnya\n",
        "        )\n",
        "\n",
        "        # Menghitung jumlah ulasan yang bisa ditambahkan tanpa melebihi target\n",
        "        remaining_reviews = target_reviews - len(all_reviews)\n",
        "        reviews_to_add = reviews[:remaining_reviews]  # Hanya mengambil jumlah ulasan yang diperlukan\n",
        "\n",
        "        all_reviews.extend(reviews_to_add)  # Menambahkan ulasan yang diambil ke dalam list all_reviews\n",
        "\n",
        "        # Update continuation_token untuk mengambil ulasan berikutnya\n",
        "        continuation_token = reviews[-1]['reviewId']  # Menggunakan reviewId sebagai token untuk pagination\n",
        "\n",
        "        # Menunggu sebentar untuk menghindari terlalu banyak permintaan\n",
        "        time.sleep(1)\n",
        "\n",
        "    return all_reviews\n",
        "\n",
        "# Pengaturan ID aplikasi dan jumlah target ulasan\n",
        "app_id = 'com.lemon.lvoverseas'\n",
        "target_reviews = 100000  # Mengambil 100.000 ulasan\n",
        "\n",
        "# Mengambil ulasan dari aplikasi\n",
        "scrapreview = get_reviews(app_id, target_reviews)\n",
        "\n",
        "# Menampilkan jumlah ulasan yang berhasil diambil\n",
        "print(f\"Total ulasan yang berhasil diambil: {len(scrapreview)}\")\n"
      ],
      "metadata": {
        "id": "elfIc8WCjaff",
        "colab": {
          "base_uri": "https://localhost:8080/"
        },
        "outputId": "30c33c3d-b1d3-404c-b41c-2487e9ff1891"
      },
      "execution_count": null,
      "outputs": [
        {
          "output_type": "stream",
          "name": "stdout",
          "text": [
            "Collecting google-play-scraper\n",
            "  Downloading google_play_scraper-1.2.7-py3-none-any.whl.metadata (50 kB)\n",
            "\u001b[?25l     \u001b[90m━━━━━━━━━━━━━━━━━━━━━━━━━━━━━━━━━━━━━━━━\u001b[0m \u001b[32m0.0/50.2 kB\u001b[0m \u001b[31m?\u001b[0m eta \u001b[36m-:--:--\u001b[0m\r\u001b[2K     \u001b[90m━━━━━━━━━━━━━━━━━━━━━━━━━━━━━━━━━━━━━━━━\u001b[0m \u001b[32m50.2/50.2 kB\u001b[0m \u001b[31m1.8 MB/s\u001b[0m eta \u001b[36m0:00:00\u001b[0m\n",
            "\u001b[?25hDownloading google_play_scraper-1.2.7-py3-none-any.whl (28 kB)\n",
            "Installing collected packages: google-play-scraper\n",
            "Successfully installed google-play-scraper-1.2.7\n",
            "Total ulasan yang berhasil diambil: 100000\n"
          ]
        }
      ]
    },
    {
      "cell_type": "code",
      "source": [
        "import csv\n",
        "\n",
        "# Menyimpan ulasan yang diambil ke dalam file CSV\n",
        "file_name = 'ulasan_aplikasi.csv'\n",
        "\n",
        "with open(file_name, 'w', newline='', encoding='utf-8') as csvfile:\n",
        "  writer = csv.DictWriter(csvfile, fieldnames=['Review'])  # Menyusun file CSV dengan kolom 'Review'\n",
        "  writer.writeheader()\n",
        "  for review in scrapreview:\n",
        "    writer.writerow({'Review': review['content']}) # Menulis setiap ulasan dalam file CSV"
      ],
      "metadata": {
        "id": "fQEqP94hJcHh"
      },
      "execution_count": null,
      "outputs": []
    }
  ]
}